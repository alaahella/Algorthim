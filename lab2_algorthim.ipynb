{
  "nbformat": 4,
  "nbformat_minor": 0,
  "metadata": {
    "colab": {
      "name": "lab2_algorthim.ipynb",
      "provenance": [],
      "collapsed_sections": []
    },
    "kernelspec": {
      "name": "python3",
      "display_name": "Python 3"
    },
    "language_info": {
      "name": "python"
    }
  },
  "cells": [
    {
      "cell_type": "markdown",
      "source": [
        "          \n",
        "          Q1  **knapsack problem **\n",
        "                   **greedy**"
      ],
      "metadata": {
        "id": "fGib2XLBTnCO"
      }
    },
    {
      "cell_type": "code",
      "source": [
        "class ItemValue:\n",
        "  \n",
        "    def __init__(self, wt, val, ind):\n",
        "        self.wt = wt\n",
        "        self.val = val\n",
        "        self.ind = ind\n",
        "        self.cost = val // wt\n",
        "  \n",
        "    def __lt__(self, other):\n",
        "        return self.cost < other.cost"
      ],
      "metadata": {
        "id": "V39vUgaaZONt"
      },
      "execution_count": 8,
      "outputs": []
    },
    {
      "cell_type": "code",
      "source": [
        "def knapsack_greedy(W, wt, val, n):\n",
        "        \"\"\"function to get maximum value \"\"\"\n",
        "        iVal = []\n",
        "        for i in range(n):\n",
        "            iVal.append(ItemValue(wt[i], val[i], i))\n",
        "  \n",
        "        # sorting items by value\n",
        "        iVal.sort(reverse=True)\n",
        "  \n",
        "        totalValue = 0\n",
        "        for i in iVal:\n",
        "            curWt = int(i.wt)\n",
        "            curVal = int(i.val)\n",
        "            if W - curWt >= 0:\n",
        "                W -= curWt\n",
        "                totalValue += curVal\n",
        "        return totalValue  \n",
        "\n",
        "wt = [10, 20, 30]\n",
        "val = [60, 100, 120]\n",
        "W = 50\n",
        "print(knapsack_greedy(W, wt, val, n))       "
      ],
      "metadata": {
        "colab": {
          "base_uri": "https://localhost:8080/"
        },
        "id": "EItFXpfrT1e9",
        "outputId": "31d3219e-6c30-4887-af9c-dbf986230eb4"
      },
      "execution_count": 10,
      "outputs": [
        {
          "output_type": "stream",
          "name": "stdout",
          "text": [
            "160\n"
          ]
        }
      ]
    },
    {
      "cell_type": "markdown",
      "source": [
        "        \n",
        "            **knapsack problem **\n",
        "                   **optimal**"
      ],
      "metadata": {
        "id": "59fN04wptJ08"
      }
    },
    {
      "cell_type": "code",
      "source": [
        "def knapSack(W, wt, val, n):\n",
        " \n",
        "    if n == 0 or W == 0:\n",
        "        return 0\n",
        " \n",
        "    if (wt[n-1] > W):\n",
        "        return knapSack(W, wt, val, n-1)\n",
        " \n",
        "    else:\n",
        "        return max(\n",
        "            val[n-1] + knapSack(\n",
        "                W-wt[n-1], wt, val, n-1),\n",
        "            knapSack(W, wt, val, n-1))\n",
        " \n",
        "wt = [10, 20, 30]\n",
        "val = [60, 100, 120]\n",
        "W = 50\n",
        "n = len(val)\n",
        "\n",
        "print(knapSack(W, wt, val, n))"
      ],
      "metadata": {
        "colab": {
          "base_uri": "https://localhost:8080/"
        },
        "id": "UA-3O49mtbs8",
        "outputId": "d2fcc747-0910-4bb3-b98d-a3bf6db51abb"
      },
      "execution_count": 4,
      "outputs": [
        {
          "output_type": "stream",
          "name": "stdout",
          "text": [
            "220\n"
          ]
        }
      ]
    },
    {
      "cell_type": "markdown",
      "source": [
        "         \n",
        "       Q2  **Fraction Knapsack **\n"
      ],
      "metadata": {
        "id": "re6iXdMBvF9W"
      }
    },
    {
      "cell_type": "code",
      "source": [
        "class Solution:\n",
        "   def fraction(self, weights, values, capacity):\n",
        "      res = 0\n",
        "      for pair in sorted(zip(weights, values), key=lambda x: - x[1]/x[0]):\n",
        "         if not bool(capacity):\n",
        "            break\n",
        "         if pair[0] > capacity:\n",
        "            res += int(pair[1] / (pair[0] / capacity))\n",
        "            capacity = 0\n",
        "         elif pair[0] <= capacity:\n",
        "            res += pair[1]\n",
        "            capacity -= pair[0]\n",
        "      return int(res)\n",
        "\n",
        "ob = Solution()\n",
        "weights = [10, 20, 30]\n",
        "values = [60, 100, 120]\n",
        "capacity = 50\n",
        "print(ob.fraction(weights, values, capacity))"
      ],
      "metadata": {
        "colab": {
          "base_uri": "https://localhost:8080/"
        },
        "id": "SmTkd6o-vTil",
        "outputId": "159968db-1116-4537-bde4-f4d2a1c23f21"
      },
      "execution_count": 1,
      "outputs": [
        {
          "output_type": "stream",
          "name": "stdout",
          "text": [
            "240\n"
          ]
        }
      ]
    },
    {
      "cell_type": "markdown",
      "source": [
        "this is the optimal soluation \n"
      ],
      "metadata": {
        "id": "eKNwTovwvUJR"
      }
    },
    {
      "cell_type": "markdown",
      "source": [
        "      \n",
        "        Q3 **Money Change Problem **\n",
        "                  ** greedy**"
      ],
      "metadata": {
        "id": "lMPnopLmyw20"
      }
    },
    {
      "cell_type": "code",
      "source": [
        "denomination_list = [1,8,20]\n",
        "denomination_list.sort(reverse = True)\n",
        "if denomination_list[-1] != 1:\n",
        "    denomination_list.append(1)\n",
        "\n",
        "def money_change(denomination_list, amount):\n",
        "    change = []\n",
        "    for money in denomination_list:\n",
        "               while amount:\n",
        "                   if money <= amount:\n",
        "                       change.append(money)\n",
        "                       amount -= money\n",
        "                   else:\n",
        "                        break\n",
        "    return change\n",
        "amount= 24\n",
        "print(money_change(denomination_list, amount))"
      ],
      "metadata": {
        "colab": {
          "base_uri": "https://localhost:8080/"
        },
        "id": "vgb3uylizRxJ",
        "outputId": "d347d0c8-f352-4bc0-afa7-6af72d14d017"
      },
      "execution_count": 2,
      "outputs": [
        {
          "output_type": "stream",
          "name": "stdout",
          "text": [
            "[20, 1, 1, 1, 1]\n"
          ]
        }
      ]
    }
  ]
}