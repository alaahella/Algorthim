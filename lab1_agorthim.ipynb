{
  "nbformat": 4,
  "nbformat_minor": 0,
  "metadata": {
    "colab": {
      "name": "session1_algorthim alaa.ipynb",
      "provenance": [],
      "collapsed_sections": []
    },
    "kernelspec": {
      "name": "python3",
      "display_name": "Python 3"
    },
    "language_info": {
      "name": "python"
    }
  },
  "cells": [
    {
      "cell_type": "markdown",
      "source": [
        "**Question 1**"
      ],
      "metadata": {
        "id": "Sdbt7DjvOpUN"
      }
    },
    {
      "cell_type": "markdown",
      "source": [
        "\n",
        "        ** factorial (iteration) **"
      ],
      "metadata": {
        "id": "EJU7wJUhFaj_"
      }
    },
    {
      "cell_type": "code",
      "source": [
        "number = int(input(\"enter a number you want : \")) \n",
        "fact = 1 \n",
        "for i in range(1, number + 1):\n",
        "     fact = fact * i\n",
        " \n",
        "print(\"factorial of \", number, \" is \", fact)\n"
      ],
      "metadata": {
        "colab": {
          "base_uri": "https://localhost:8080/"
        },
        "id": "QZLGa-xdFvh-",
        "outputId": "dc833c57-7fc1-4c13-e5db-8aa39335000b"
      },
      "execution_count": null,
      "outputs": [
        {
          "output_type": "stream",
          "name": "stdout",
          "text": [
            "enter a number you want : 10\n",
            "factorial of  10  is  3628800\n"
          ]
        }
      ]
    },
    {
      "cell_type": "markdown",
      "source": [
        "time complexity = o(n)"
      ],
      "metadata": {
        "id": "3S42VTfmJqx0"
      }
    },
    {
      "cell_type": "markdown",
      "source": [
        "              \n",
        "             ** factorial (recursive)**"
      ],
      "metadata": {
        "id": "xk3p9lQjKD-c"
      }
    },
    {
      "cell_type": "code",
      "source": [
        "number = int(input(\"Enter a number you want : \"))\n",
        "def fact_rec(n):\n",
        "    if n <= 1:\n",
        "        return 1\n",
        "    else:\n",
        "        return (n * fact_rec(n-1))\n",
        "\n",
        "result = fact_rec(number)\n",
        "print(\"The factorial of\", number, \"is\", result)"
      ],
      "metadata": {
        "colab": {
          "base_uri": "https://localhost:8080/"
        },
        "id": "8T8KW119NnGa",
        "outputId": "90745399-930c-4e44-9a53-93543796e0bf"
      },
      "execution_count": null,
      "outputs": [
        {
          "output_type": "stream",
          "name": "stdout",
          "text": [
            "Enter a number you want : 10\n",
            "The factorial of 10 is 3628800\n"
          ]
        }
      ]
    },
    {
      "cell_type": "markdown",
      "source": [
        "time complexity =o(n^2)"
      ],
      "metadata": {
        "id": "ihpzbl8bOLsJ"
      }
    },
    {
      "cell_type": "markdown",
      "source": [
        "**Question 2**"
      ],
      "metadata": {
        "id": "njRmTWhkO5wJ"
      }
    },
    {
      "cell_type": "markdown",
      "source": [
        "   \n",
        "    **fibonacci (iteration)**"
      ],
      "metadata": {
        "id": "Kxa416EDRaPk"
      }
    },
    {
      "cell_type": "code",
      "source": [
        "number=int(input(\"Enter a number you want \"))\n",
        "first_number=0                                        \n",
        "second_number=1 \n",
        "                                        \n",
        "if number<=0:\n",
        "    print(\"Fibonacci sequence is\",first_number)\n",
        "else:\n",
        "    print(\"the fibonacci of\",number,\"is\")\n",
        "    print(first_number,second_number,end=\" \")\n",
        "    for x in range(2,number):\n",
        "        next=first_number+second_number                           \n",
        "        print(next,end=\" \")\n",
        "        first_number=second_number\n",
        "        second_number=next"
      ],
      "metadata": {
        "colab": {
          "base_uri": "https://localhost:8080/"
        },
        "id": "mLtcJ9oXRjBT",
        "outputId": "e3ca66e6-becf-4002-d05b-566f7a867e9a"
      },
      "execution_count": null,
      "outputs": [
        {
          "output_type": "stream",
          "name": "stdout",
          "text": [
            "Enter a number you want 5\n",
            "the fibonacci of 5 is\n",
            "0 1 1 2 3 "
          ]
        }
      ]
    },
    {
      "cell_type": "markdown",
      "source": [
        "time complexity=o(n)"
      ],
      "metadata": {
        "id": "Wx2r0kXa8KHi"
      }
    },
    {
      "cell_type": "markdown",
      "source": [
        "\n",
        "        **fibonacci (recursive)**"
      ],
      "metadata": {
        "id": "zMwZ0zgvPAK_"
      }
    },
    {
      "cell_type": "code",
      "source": [
        "number = int(input(\"Enter a number you want : \"))\n",
        "def fib(n):\n",
        "    if n <= 1:\n",
        "        return n\n",
        "    else:\n",
        "        return fib(n-1)+fib(n-2)\n",
        "\n",
        "if number <= 0:  \n",
        "   print(\"invalid number\")  \n",
        "else:  \n",
        "     print(\"the fibonacci of\",number,\"is\")\n",
        "     for i in range(number):  \n",
        "       print(fib(i))\n"
      ],
      "metadata": {
        "colab": {
          "base_uri": "https://localhost:8080/"
        },
        "id": "CVkifx9nPK99",
        "outputId": "0cf0ea64-f2dd-48c6-d8e4-90fa4719ad0e"
      },
      "execution_count": null,
      "outputs": [
        {
          "output_type": "stream",
          "name": "stdout",
          "text": [
            "Enter a number you want : 5\n",
            "the fibonacci of 5 is\n",
            "0\n",
            "1\n",
            "1\n",
            "2\n",
            "3\n"
          ]
        }
      ]
    },
    {
      "cell_type": "markdown",
      "source": [
        "time complexity =o(2^n)"
      ],
      "metadata": {
        "id": "l24hC2aBRSIC"
      }
    },
    {
      "cell_type": "markdown",
      "source": [
        "**Question 3**"
      ],
      "metadata": {
        "id": "fPoIywhI8S81"
      }
    },
    {
      "cell_type": "markdown",
      "source": [
        "  \n",
        "      **linear search (iteration)**"
      ],
      "metadata": {
        "id": "Iy2dUWGO8nLk"
      }
    },
    {
      "cell_type": "code",
      "source": [
        "def linearsearch(arr, n):\n",
        "   for i in range(len(arr)):\n",
        "      if arr[i] == n:\n",
        "         return i\n",
        "   return -1\n",
        "arr = [1,2,3,4,5,6,7,8,9,10]\n",
        "n=7\n",
        "print(\"element found at index \"+str(linearsearch(arr,n)))"
      ],
      "metadata": {
        "colab": {
          "base_uri": "https://localhost:8080/"
        },
        "id": "7Amh1b7_8xFI",
        "outputId": "53e8a567-5c50-4c99-b87a-3f04227c2763"
      },
      "execution_count": null,
      "outputs": [
        {
          "output_type": "stream",
          "name": "stdout",
          "text": [
            "element found at index 6\n"
          ]
        }
      ]
    },
    {
      "cell_type": "markdown",
      "source": [
        "time complexity=o(n)"
      ],
      "metadata": {
        "id": "mMbtgqz6AhtK"
      }
    },
    {
      "cell_type": "markdown",
      "source": [
        "    \n",
        "    **linear search(recursive) **"
      ],
      "metadata": {
        "id": "0KNArTdCAnLf"
      }
    },
    {
      "cell_type": "code",
      "source": [
        "def linearSearch( arr, l, r, x): \n",
        "    if r < l: \n",
        "        return -1\n",
        "    if arr[l] == x: \n",
        "        return l \n",
        "    if arr[r] == x: \n",
        "        return r \n",
        "    return linearSearch(arr, l+1, r-1, x) \n",
        "  \n",
        " \n",
        "arr = [1,2,3,4,5,6,7,8,9,10]\n",
        "n = len(arr) \n",
        "x = 9\n",
        "index = linearSearch(arr, 0, n-1, x) \n",
        "if index != -1: \n",
        "    print (\"Element\", x,\"is in at index %d\" %(index) )\n",
        "else: \n",
        "    print (\"Element %d is not found\" %(x) )"
      ],
      "metadata": {
        "id": "Htpl5QanBJdR",
        "colab": {
          "base_uri": "https://localhost:8080/"
        },
        "outputId": "e406d94c-62dd-4155-d82e-6e28918df734"
      },
      "execution_count": null,
      "outputs": [
        {
          "output_type": "stream",
          "name": "stdout",
          "text": [
            "Element 9 is in at index 8\n"
          ]
        }
      ]
    },
    {
      "cell_type": "markdown",
      "source": [
        "time complexity = o(n)"
      ],
      "metadata": {
        "id": "zk7MbXe86Ay9"
      }
    },
    {
      "cell_type": "markdown",
      "source": [
        "    **Question 4**\n",
        "\n",
        "    **binary search (iteration)**"
      ],
      "metadata": {
        "id": "iOsCbv4X33Iz"
      }
    },
    {
      "cell_type": "code",
      "source": [
        "def binarySearch(array, x, low, high):\n",
        "    while low <= high:\n",
        "\n",
        "        mid = low + (high - low)//2\n",
        "\n",
        "        if array[mid] == x:\n",
        "            return mid\n",
        "\n",
        "        elif array[mid] < x:\n",
        "            low = mid + 1\n",
        "\n",
        "        else:\n",
        "            high = mid - 1\n",
        "\n",
        "    return -1\n",
        "\n",
        "\n",
        "array=[-9, 0, 11, 25, 87]\n",
        "x = 11\n",
        "\n",
        "result = binarySearch(array, x, 0, len(array)-1)\n",
        "if result != -1:\n",
        "    print(\"Element is at index = \" + str(result))\n",
        "else:\n",
        "    print(\"Not found\")"
      ],
      "metadata": {
        "colab": {
          "base_uri": "https://localhost:8080/"
        },
        "id": "uR1Mq8FA4Gos",
        "outputId": "b6aa53ae-9e41-4346-fa2c-3deda162f0f0"
      },
      "execution_count": null,
      "outputs": [
        {
          "output_type": "stream",
          "name": "stdout",
          "text": [
            "Element is at index = 2\n"
          ]
        }
      ]
    },
    {
      "cell_type": "markdown",
      "source": [
        "time complexity = o(log n)"
      ],
      "metadata": {
        "id": "30dGDSD948A3"
      }
    },
    {
      "cell_type": "markdown",
      "source": [
        "    \n",
        "     binary search(recrsive)"
      ],
      "metadata": {
        "id": "J3nb1ebd5RBs"
      }
    },
    {
      "cell_type": "code",
      "source": [
        "def binarySearch(array, x, low, high):\n",
        "\n",
        "    if high >= low:\n",
        "\n",
        "        mid = low + (high - low)//2\n",
        "        if array[mid] == x:\n",
        "            return mid\n",
        "\n",
        "        elif array[mid] > x:\n",
        "            return binarySearch(array, x, low, mid-1)\n",
        "\n",
        "        else:\n",
        "            return binarySearch(array, x, mid + 1, high)\n",
        "\n",
        "    else:\n",
        "        return -1\n",
        "\n",
        "\n",
        "array=[-9, 0, 11, 25, 87]\n",
        "x = 87\n",
        "\n",
        "result = binarySearch(array, x, 0, len(array)-1)\n",
        "\n",
        "if result != -1:\n",
        "    print(\"Element is  at index = \" + str(result))\n",
        "else:\n",
        "    print(\"Not found\")"
      ],
      "metadata": {
        "colab": {
          "base_uri": "https://localhost:8080/"
        },
        "id": "e-jiztSQ5X1e",
        "outputId": "acbe3535-4656-4de6-9f42-6de887386c19"
      },
      "execution_count": null,
      "outputs": [
        {
          "output_type": "stream",
          "name": "stdout",
          "text": [
            "Element is  at index = 4\n"
          ]
        }
      ]
    },
    {
      "cell_type": "markdown",
      "source": [
        "time complexity = o(log n)"
      ],
      "metadata": {
        "id": "oFU1HU7v51WL"
      }
    },
    {
      "cell_type": "markdown",
      "source": [
        "**Question 5**\n",
        "\n",
        "        **bubble sort**"
      ],
      "metadata": {
        "id": "eR1Vd5R91kj2"
      }
    },
    {
      "cell_type": "code",
      "source": [
        "def bubbleSort(array):\n",
        "    \n",
        "  for i in range(len(array)):\n",
        "    for j in range(0, len(array) - i - 1):\n",
        "      if array[j] > array[j + 1]:\n",
        "        temp = array[j]\n",
        "        array[j] = array[j+1]\n",
        "        array[j+1] = temp\n",
        "\n",
        "\n",
        "array = [25,11,0,87,-9]\n",
        "bubbleSort(array)\n",
        "print('Sorted Array :',array)\n"
      ],
      "metadata": {
        "colab": {
          "base_uri": "https://localhost:8080/"
        },
        "id": "XCNqrTFD1svW",
        "outputId": "2b6a40a6-a72e-4f7e-8e8d-771c5b9c2770"
      },
      "execution_count": null,
      "outputs": [
        {
          "output_type": "stream",
          "name": "stdout",
          "text": [
            "Sorted Array : [-9, 0, 11, 25, 87]\n"
          ]
        }
      ]
    },
    {
      "cell_type": "markdown",
      "source": [
        "time complexity = o(n^2)"
      ],
      "metadata": {
        "id": "Vf1xRTxI173-"
      }
    },
    {
      "cell_type": "markdown",
      "source": [
        "    \n",
        "    **Bubble sort with swap**"
      ],
      "metadata": {
        "id": "FlhB6hK-SpSn"
      }
    },
    {
      "cell_type": "code",
      "source": [
        "def bubbleSort(array):\n",
        "    \n",
        "  for i in range(len(array)):\n",
        "    swapped = False\n",
        "    for j in range(0, len(array) - i - 1):\n",
        "      if array[j] > array[j + 1]:\n",
        "        temp = array[j]\n",
        "        array[j] = array[j+1]\n",
        "        array[j+1] = temp\n",
        "\n",
        "        swapped = True\n",
        "    if not swapped:\n",
        "      break\n",
        "\n",
        "array = [25,11,0,87,-9]\n",
        "bubbleSort(array)\n",
        "print('Sorted Array :',array)\n"
      ],
      "metadata": {
        "colab": {
          "base_uri": "https://localhost:8080/"
        },
        "id": "vw5uaHqyTMqh",
        "outputId": "0216b5f4-6d92-4672-b859-157ee31eb92a"
      },
      "execution_count": 2,
      "outputs": [
        {
          "output_type": "stream",
          "name": "stdout",
          "text": [
            "Sorted Array : [-9, 0, 11, 25, 87]\n"
          ]
        }
      ]
    },
    {
      "cell_type": "markdown",
      "source": [
        "time complexity =o(n^2)"
      ],
      "metadata": {
        "id": "FAxSXVzHT0rc"
      }
    },
    {
      "cell_type": "markdown",
      "source": [
        "    ** Question 6**\n",
        "\n",
        "    **insertion sort **"
      ],
      "metadata": {
        "id": "lJg9HsY9yGFE"
      }
    },
    {
      "cell_type": "code",
      "source": [
        "def insertionSort(array):\n",
        "\n",
        "    for i in range(1, len(array)):\n",
        "        key = array[i]\n",
        "        j = i - 1\n",
        "              \n",
        "        while j >= 0 and key < array[j]:\n",
        "            array[j + 1] = array[j]\n",
        "            j = j - 1\n",
        "        array[j + 1] = key\n",
        "\n",
        "\n",
        "array = [25,11,0,87,-9]\n",
        "insertionSort(array)\n",
        "print('Sorted Array :',array)\n"
      ],
      "metadata": {
        "colab": {
          "base_uri": "https://localhost:8080/"
        },
        "id": "vLAFzbMJyxpN",
        "outputId": "9f6c4f55-b8a2-47eb-e06f-f5f3e1c4a340"
      },
      "execution_count": null,
      "outputs": [
        {
          "output_type": "stream",
          "name": "stdout",
          "text": [
            "Sorted Array : [-9, 0, 11, 25, 87]\n"
          ]
        }
      ]
    },
    {
      "cell_type": "markdown",
      "source": [
        "time complexity = o(n^2)"
      ],
      "metadata": {
        "id": "6Im0c242zTxw"
      }
    },
    {
      "cell_type": "markdown",
      "source": [
        "**Question 7**\n",
        "\n",
        "**selection sort** "
      ],
      "metadata": {
        "id": "kFE8kQgrzy9g"
      }
    },
    {
      "cell_type": "code",
      "source": [
        "def selectionSort(array, size):\n",
        "   \n",
        "    for i in range(size):\n",
        "        min_idx = i\n",
        "\n",
        "        for j in range(i + 1, size):\n",
        "            if array[j] < array[min_idx]:\n",
        "                min_idx = j\n",
        "        (array[i], array[min_idx]) = (array[min_idx], array[i])\n",
        "\n",
        "\n",
        "array = [25,11,0,87,-9]\n",
        "size = len(array)\n",
        "selectionSort(array, size)\n",
        "print('Sorted Array :',array)\n"
      ],
      "metadata": {
        "colab": {
          "base_uri": "https://localhost:8080/"
        },
        "id": "FnZdIPZ3z8ju",
        "outputId": "f9572c28-6bc2-443c-bb09-a173d97b139a"
      },
      "execution_count": null,
      "outputs": [
        {
          "output_type": "stream",
          "name": "stdout",
          "text": [
            "Sorted Array : [-9, 0, 11, 25, 87]\n"
          ]
        }
      ]
    },
    {
      "cell_type": "markdown",
      "source": [
        "time complexity =o(n^2)"
      ],
      "metadata": {
        "id": "gZvB8-_o0zKm"
      }
    },
    {
      "cell_type": "markdown",
      "source": [
        "      \n",
        "      **Question 8**\n",
        "\n",
        "       **GCD**"
      ],
      "metadata": {
        "id": "YAvviMYzBtB-"
      }
    },
    {
      "cell_type": "code",
      "source": [
        "def gcd(a, b):\n",
        "\tif a == 0 :\n",
        "\t\treturn b\n",
        "\t\n",
        "\treturn gcd(b%a, a)\n",
        "\n",
        "a = 120\n",
        "b = 100\n",
        "print(\"gcd(\", a , \",\" , b, \") = \", gcd(a, b))\n",
        "a = 45\n",
        "b = 10\n",
        "print(\"gcd(\", a , \",\" , b, \") = \", gcd(a, b))\n",
        "a = 89\n",
        "b = 90\n",
        "print(\"gcd(\", a , \",\" , b, \") = \", gcd(a, b))\n"
      ],
      "metadata": {
        "colab": {
          "base_uri": "https://localhost:8080/"
        },
        "id": "F2lQB6fMB6M7",
        "outputId": "24a6ab26-7b4e-44cd-c79d-abd78cef1385"
      },
      "execution_count": null,
      "outputs": [
        {
          "output_type": "stream",
          "name": "stdout",
          "text": [
            "gcd( 120 , 100 ) =  20\n",
            "gcd( 45 , 10 ) =  5\n",
            "gcd( 89 , 90 ) =  1\n"
          ]
        }
      ]
    },
    {
      "cell_type": "markdown",
      "source": [
        "time complexity = o(1)"
      ],
      "metadata": {
        "id": "RE2NKjW_Le5K"
      }
    }
  ]
}