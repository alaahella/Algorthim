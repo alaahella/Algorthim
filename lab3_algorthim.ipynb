{
  "nbformat": 4,
  "nbformat_minor": 0,
  "metadata": {
    "colab": {
      "name": "lab3_algorthim.ipynb",
      "provenance": [],
      "collapsed_sections": []
    },
    "kernelspec": {
      "name": "python3",
      "display_name": "Python 3"
    },
    "language_info": {
      "name": "python"
    }
  },
  "cells": [
    {
      "cell_type": "markdown",
      "source": [
        "            \n",
        "            **merge sort **"
      ],
      "metadata": {
        "id": "MM0uHsbVRrAt"
      }
    },
    {
      "cell_type": "code",
      "source": [
        "def mergeSort(arr):\n",
        "    if len(arr) > 1:\n",
        "# low,high,mid of the array\n",
        "        mid = len(arr)//2\n",
        "        L = arr[:mid]\n",
        "        R = arr[mid:]\n",
        "# Sorting the left and right half\n",
        "        mergeSort(L) \n",
        "        mergeSort(R)\n",
        "  \n",
        "        i = j = k = 0\n",
        "  \n",
        "        # Copy data to temp arrays L[] and R[]\n",
        "        while i < len(L) and j < len(R):\n",
        "            if L[i] < R[j]:\n",
        "                arr[k] = L[i]\n",
        "                i += 1\n",
        "            else:\n",
        "                arr[k] = R[j]\n",
        "                j += 1\n",
        "            k += 1\n",
        "  \n",
        "        # Checking if any element was left\n",
        "        while i < len(L):\n",
        "            arr[k] = L[i]\n",
        "            i += 1\n",
        "            k += 1\n",
        "  \n",
        "        while j < len(R):\n",
        "            arr[k] = R[j]\n",
        "            j += 1\n",
        " \n",
        "            k += 1\n",
        "arr = [58,24,-9,14,5,75,0,16]\n",
        "mergeSort(arr)\n",
        "print(\"Array Merge Sort: \", arr)           "
      ],
      "metadata": {
        "colab": {
          "base_uri": "https://localhost:8080/"
        },
        "id": "4jvSz3sWR1IG",
        "outputId": "8008db4d-f7b4-4a56-f4b4-b1930a04c872"
      },
      "execution_count": 4,
      "outputs": [
        {
          "output_type": "stream",
          "name": "stdout",
          "text": [
            "Array Merge Sort:  [-9, 0, 5, 14, 16, 24, 58, 75]\n"
          ]
        }
      ]
    },
    {
      "cell_type": "markdown",
      "source": [
        "time complexity =o(nlogn)"
      ],
      "metadata": {
        "id": "DL1eBLE4R1rM"
      }
    },
    {
      "cell_type": "markdown",
      "source": [
        "Answer the question-->\n",
        "Correct Simulation is in Dance or Animation\n",
        "\n",
        "answer:correct simulation is in animation "
      ],
      "metadata": {
        "id": "Afy9mTMkSEYD"
      }
    }
  ]
}